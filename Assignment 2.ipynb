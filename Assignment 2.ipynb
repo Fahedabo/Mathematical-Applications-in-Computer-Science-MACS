{
  "nbformat": 4,
  "nbformat_minor": 0,
  "metadata": {
    "kernelspec": {
      "display_name": "Python 3",
      "language": "python",
      "name": "python3"
    },
    "language_info": {
      "codemirror_mode": {
        "name": "ipython",
        "version": 3
      },
      "file_extension": ".py",
      "mimetype": "text/x-python",
      "name": "python",
      "nbconvert_exporter": "python",
      "pygments_lexer": "ipython3",
      "version": "3.8.3"
    },
    "colab": {
      "name": "MacsHw2_finally.ipynb",
      "provenance": [],
      "collapsed_sections": []
    }
  },
  "cells": [
    {
      "cell_type": "markdown",
      "metadata": {
        "id": "-Ddvr3pHG4yc"
      },
      "source": [
        "# Assignment 2: Applications of modular arithmetics"
      ]
    },
    {
      "cell_type": "markdown",
      "metadata": {
        "id": "bkP87FaMG4yd"
      },
      "source": [
        "## Question 1: Cryptography\n",
        "\n",
        "In this question you will implement two simple cryptographic algorithms - Caesar's and Vigenère ciphers.\n",
        "\n",
        "1. Implement Caesar's cipher: https://en.wikipedia.org/wiki/Caesar_cipher, both the encoder and the decoder. Your encoder should use a right shift of 11. Your implementation should deal with both uppercase and lowercase characters. For example - `A` should be encoded as `L`, and `a` should be encoded as `l`. Non-alphabetic characters should stay as they are.\n",
        "2. Demonstrate the cipher by encoding and then decoding the [Zen of Python](#scrollTo=c7HI28zkPqXb&line=1&uniqifier=1) using Caesar cipher:\n",
        "  * Encode the Zen of Python and print the result.\n",
        "  * Decode the result of encoding and print the decoded string.\n",
        "  * Compare the original and recovered texts - they should be the same.\n",
        "3. For what _n_, where _n_ is the shift size, both the encoder and the decoder would output the same resulting string for every given input string? In other words, find an _n_ such that for each _x_ we would get: (_x_ + _n_) mod 26 = (_x_ - _n_) mod 26.\n",
        "4. Implement the Vigenère cipher: https://en.wikipedia.org/wiki/Vigenère_cipher, both the encoder and the decoder. Use the keyword `XYZZY`. As before, your implementation should preserve capitalization and keep non-alphabetic characters as they are. For example - the string `Hey, you!` should be encoded using the pairs `(H, X), (e, y), (y, z), (y, z), (o, y), (u, x)`, resulting with the cipher `Ecx, xmr!`.\n",
        "5. Demonstrate the Vigenère cipher by encoding and then decoding the Zen of Python, as before."
      ]
    },
    {
      "cell_type": "code",
      "source": [
        "import this  # This line actually prints out the Zen of Python. Curious? See: https://github.com/python/cpython/blob/main/Lib/this.py\n",
        "\n",
        "# For convenience, use the following constant.\n",
        "ZEN = '''The Zen of Python, by Tim Peters\n",
        "\n",
        "Beautiful is better than ugly.\n",
        "Explicit is better than implicit.\n",
        "Simple is better than complex.\n",
        "Complex is better than complicated.\n",
        "Flat is better than nested.\n",
        "Sparse is better than dense.\n",
        "Readability counts.\n",
        "Special cases aren't special enough to break the rules.\n",
        "Although practicality beats purity.\n",
        "Errors should never pass silently.\n",
        "Unless explicitly silenced.\n",
        "In the face of ambiguity, refuse the temptation to guess.\n",
        "There should be one-- and preferably only one --obvious way to do it.\n",
        "Although that way may not be obvious at first unless you're Dutch.\n",
        "Now is better than never.\n",
        "Although never is often better than *right* now.\n",
        "If the implementation is hard to explain, it's a bad idea.\n",
        "If the implementation is easy to explain, it may be a good idea.\n",
        "Namespaces are one honking great idea -- let's do more of those!\n",
        "'''"
      ],
      "metadata": {
        "id": "c7HI28zkPqXb",
        "outputId": "2a83d3bd-ce0f-4aa3-f264-885f4aad8f6c",
        "colab": {
          "base_uri": "https://localhost:8080/"
        }
      },
      "execution_count": 8,
      "outputs": [
        {
          "output_type": "stream",
          "name": "stdout",
          "text": [
            "The Zen of Python, by Tim Peters\n",
            "\n",
            "Beautiful is better than ugly.\n",
            "Explicit is better than implicit.\n",
            "Simple is better than complex.\n",
            "Complex is better than complicated.\n",
            "Flat is better than nested.\n",
            "Sparse is better than dense.\n",
            "Readability counts.\n",
            "Special cases aren't special enough to break the rules.\n",
            "Although practicality beats purity.\n",
            "Errors should never pass silently.\n",
            "Unless explicitly silenced.\n",
            "In the face of ambiguity, refuse the temptation to guess.\n",
            "There should be one-- and preferably only one --obvious way to do it.\n",
            "Although that way may not be obvious at first unless you're Dutch.\n",
            "Now is better than never.\n",
            "Although never is often better than *right* now.\n",
            "If the implementation is hard to explain, it's a bad idea.\n",
            "If the implementation is easy to explain, it may be a good idea.\n",
            "Namespaces are one honking great idea -- let's do more of those!\n"
          ]
        }
      ]
    },
    {
      "cell_type": "code",
      "metadata": {
        "id": "Yd2ECbt3G4yd"
      },
      "source": [
        "# Solution 1\n",
        "def encrypt(txt,c):\n",
        " ans = \"\"\n",
        "  \n",
        " for i in range(len(txt)):\n",
        "      char = txt[i]\n",
        "      # Encrypt  characters \n",
        "      \n",
        "      if (char.isupper()):      # Encrypt capital characters \n",
        "\n",
        "         ans =ans+ chr((ord(char) + c-65) % 26 + 65)\n",
        "      # Encrypt lowerc characters \n",
        "      else:\n",
        "        if(char.islower()):\n",
        "         ans =ans+ chr((ord(char) + c - 97) % 26 + 97)\n",
        "        else:# if we have commas (not letter)\n",
        "           ans =ans+ char\n",
        "      \n",
        " return ans\n",
        "\n",
        "\n",
        "\n",
        "def decrypt(txt,c):\n",
        " ans = \"\"\n",
        "\n",
        " for i in range(len(txt)):\n",
        "      char = txt[i]\n",
        "      # Encrypt  characters \n",
        "      \n",
        "      if (char.isupper()):      # Encrypt capital characters \n",
        "\n",
        "         ans =ans+ chr((ord(char) - c-65) % 26 + 65)\n",
        "      # Encrypt lowerc characters \n",
        "      else:\n",
        "        if(char.islower()):\n",
        "         ans =ans+ chr((ord(char) - c - 97) % 26 + 97)\n",
        "        else:# if we have commas (not letter)\n",
        "           ans =ans+ char\n",
        "      \n",
        " return ans"
      ],
      "execution_count": 9,
      "outputs": []
    },
    {
      "cell_type": "code",
      "source": [
        "# Solution 2\n",
        "\n",
        "\n",
        "x=encrypt(ZEN,11)\n",
        "print(x)\n",
        "z=decrypt(x,11)\n",
        "print(z)\n",
        "print(z==ZEN)#comparing the text"
      ],
      "metadata": {
        "id": "HS01pNyxD_1I",
        "outputId": "66b3d14a-76ee-4bd8-fe78-36a4ef631a73",
        "colab": {
          "base_uri": "https://localhost:8080/"
        }
      },
      "execution_count": 10,
      "outputs": [
        {
          "output_type": "stream",
          "name": "stdout",
          "text": [
            "Esp Kpy zq Ajeszy, mj Etx Apepcd\n",
            "\n",
            "Mplfetqfw td mpeepc esly frwj.\n",
            "Piawtnte td mpeepc esly txawtnte.\n",
            "Dtxawp td mpeepc esly nzxawpi.\n",
            "Nzxawpi td mpeepc esly nzxawtnlepo.\n",
            "Qwle td mpeepc esly ypdepo.\n",
            "Dalcdp td mpeepc esly opydp.\n",
            "Cplolmtwtej nzfyed.\n",
            "Dapntlw nldpd lcpy'e dapntlw pyzfrs ez mcplv esp cfwpd.\n",
            "Lweszfrs aclnetnlwtej mpled afctej.\n",
            "Pcczcd dszfwo ypgpc aldd dtwpyewj.\n",
            "Fywpdd piawtntewj dtwpynpo.\n",
            "Ty esp qlnp zq lxmtrftej, cpqfdp esp epxaeletzy ez rfpdd.\n",
            "Espcp dszfwo mp zyp-- lyo acpqpclmwj zywj zyp --zmgtzfd hlj ez oz te.\n",
            "Lweszfrs esle hlj xlj yze mp zmgtzfd le qtcde fywpdd jzf'cp Ofens.\n",
            "Yzh td mpeepc esly ypgpc.\n",
            "Lweszfrs ypgpc td zqepy mpeepc esly *ctrse* yzh.\n",
            "Tq esp txawpxpyeletzy td slco ez piawlty, te'd l mlo topl.\n",
            "Tq esp txawpxpyeletzy td pldj ez piawlty, te xlj mp l rzzo topl.\n",
            "Ylxpdalnpd lcp zyp szyvtyr rcple topl -- wpe'd oz xzcp zq eszdp!\n",
            "\n",
            "The Zen of Python, by Tim Peters\n",
            "\n",
            "Beautiful is better than ugly.\n",
            "Explicit is better than implicit.\n",
            "Simple is better than complex.\n",
            "Complex is better than complicated.\n",
            "Flat is better than nested.\n",
            "Sparse is better than dense.\n",
            "Readability counts.\n",
            "Special cases aren't special enough to break the rules.\n",
            "Although practicality beats purity.\n",
            "Errors should never pass silently.\n",
            "Unless explicitly silenced.\n",
            "In the face of ambiguity, refuse the temptation to guess.\n",
            "There should be one-- and preferably only one --obvious way to do it.\n",
            "Although that way may not be obvious at first unless you're Dutch.\n",
            "Now is better than never.\n",
            "Although never is often better than *right* now.\n",
            "If the implementation is hard to explain, it's a bad idea.\n",
            "If the implementation is easy to explain, it may be a good idea.\n",
            "Namespaces are one honking great idea -- let's do more of those!\n",
            "\n",
            "True\n"
          ]
        }
      ]
    },
    {
      "cell_type": "code",
      "source": [
        "# Solution 3\n",
        "def ForWhatNfun(x):\n",
        "  #For what n, the shift size, the encoder and the decoderoutput the same result\n",
        "    for n in range(1,x):\n",
        "      if( (x + n) % 26 == (x - n) % 26):\n",
        "        return n;\n"
      ],
      "metadata": {
        "id": "Rq8K7PVxEAWw"
      },
      "execution_count": 11,
      "outputs": []
    },
    {
      "cell_type": "code",
      "source": [
        "print(ForWhatNfun(48568))"
      ],
      "metadata": {
        "id": "XvWrvxntblUS",
        "outputId": "f776d877-3789-4754-82ac-d7a984cc654b",
        "colab": {
          "base_uri": "https://localhost:8080/"
        }
      },
      "execution_count": null,
      "outputs": [
        {
          "output_type": "stream",
          "name": "stdout",
          "text": [
            "13\n"
          ]
        }
      ]
    },
    {
      "cell_type": "code",
      "source": [
        "# Solution 4\n",
        "#our key that given in the question\n",
        "KEY = \"XYZZY\"#in capital\n",
        "key=\"xyzzy\" #in small\n",
        "def encode_ciphertxt(string):\n",
        " encodeans=\"\"\n",
        " LettCount=0\n",
        " for i in string:\n",
        "   #if capital letters\n",
        "   if i.isupper():\n",
        "     tmp=LettCount%len(key)\n",
        "     convert=ord(KEY[tmp])-ord('A')\n",
        "     converting=(ord(i)-ord('A')+convert)%26+ord('A')\n",
        "     tempencodeans=chr(converting)\n",
        "     encodeans+=tempencodeans\n",
        "     LettCount+=1\n",
        "\n",
        "    #if  small letters\n",
        "   elif i.islower():\n",
        "     tmp=LettCount%len(key)\n",
        "     convert=ord(key[tmp])-ord('a')\n",
        "     converting=(ord(i)-ord('a')+convert)%26+ord('a')\n",
        "     tempencodeans=chr(converting)\n",
        "     encodeans+=tempencodeans\n",
        "     LettCount+=1\n",
        "\n",
        "   else:\n",
        "     encodeans+=i\n",
        " return(encodeans)\n",
        "\n",
        "\n",
        "### converting from symbol letters to original sentince(the reversing from the encode_ciphertxt)\n",
        "def decode_ciphertxt(string):\n",
        "  decodeans=\"\"\n",
        "  LettCount=0\n",
        "  for i in string:\n",
        "   #if capital letters\n",
        "   if i.isupper():\n",
        "     tmp=LettCount%len(key)\n",
        "     convert=ord(KEY[tmp])-ord('A')\n",
        "     converting=(ord(i)-ord('A')+convert)%26+ord('A')\n",
        "     tempdecodeans=chr(converting)\n",
        "     decodeans+=tempdecodeans\n",
        "     LettCount+=1\n",
        "\n",
        "\n",
        "    #if  small letters\n",
        "   elif i.islower():\n",
        "     tmp=LettCount%len(key)\n",
        "     convert=ord(key[tmp])-ord('a')\n",
        "     converting=(ord(i)-ord('a')+convert)%26+ord('a')\n",
        "     tempdecodeans=chr(converting)\n",
        "     decodeans+=tempdecodeans\n",
        "     LettCount+=1\n",
        "\n",
        "\n",
        "   else:\n",
        "     decodeans+=i\n",
        "  return(decodeans)\n"
      ],
      "metadata": {
        "id": "G_MtnjRZYZNg"
      },
      "execution_count": 12,
      "outputs": []
    },
    {
      "cell_type": "code",
      "source": [
        "# Solution 5\n",
        "#cheking my converting code\n",
        "print(encode_ciphertxt('Hey, you!'))\n",
        "x=encode_ciphertxt(ZEN)\n",
        "print(x)\n",
        "y=decode_ciphertxt(ZEN)\n",
        "print(y)\n",
        "print(x==y)\n",
        "\n",
        "\n",
        "\n"
      ],
      "metadata": {
        "id": "r3LynAYlEArC",
        "colab": {
          "base_uri": "https://localhost:8080/"
        },
        "outputId": "1a52e8ee-42c6-4b61-cd2a-de11be9e7c08"
      },
      "execution_count": 16,
      "outputs": [
        {
          "output_type": "stream",
          "name": "stdout",
          "text": [
            "Ecx, xmr!\n",
            "Qfd Yck me Owqfnm, zv Rhl Nbrdqq\n",
            "\n",
            "Ycztrfdtk gp zdsrbp sgyk sfkw.\n",
            "Bvokgzgs hq ycssco rgzl fkokgzgs.\n",
            "Rgjnkd gp zdsrbp sgyk anlnicw.\n",
            "Bmjnkdv fq adrqcq sfxl bnkmjhbyqcc.\n",
            "Ejxr hr zbrsdp qfzm lbqsdb.\n",
            "Pnzqqb gr acqrdq reym cckqd.\n",
            "Qcxbzagigsx alsmsq.\n",
            "Pndbgxj bzqbq zqck'r roczgzk ckmtff qm aqcxi sgc oskdq.\n",
            "Xjsgmreg opxashaxjhsw yczsq msqhrv.\n",
            "Cqqmoq rgmrjc mcscq oypq rhjblskw.\n",
            "Rlkdqp cwojfahsjv qhkckadc.\n",
            "Gk rgd dxad nd xkahergsx, pbdtrc qfd scjnszrfmm sm dsdrq.\n",
            "Qfdqc pfntja zd nlb-- ymc nocedpxzkx mkjx nlb --mauglsr vyv rn cm fr.\n",
            "Zkremtff qfzs uxw lzw kms ac lzuhmrq zs dfprs skjdrq vmt'qc Assbf.\n",
            "Kmv hq ycssco rgzl kcudp.\n",
            "Xjsgmreg mcscq hq ldsdl ycssco rgzl *ogfgr* kmv.\n",
            "Hd qfd hkmjdlckrzsgll hr fxpc sm bvokyfl, hs'q x zzc gacz.\n",
            "Hd qfd hkmjdlckrzsgll hr cxqx sm bvokyfl, hs kxw ad y dmnc gacz.\n",
            "Myjcroyzcr zpb mmd flljhld eqdyq gcdy -- ics'r bl knqc ld sgmpc!\n",
            "\n",
            "Qfd Yck me Owqfnm, zv Rhl Nbrdqq\n",
            "\n",
            "Ycztrfdtk gp zdsrbp sgyk sfkw.\n",
            "Bvokgzgs hq ycssco rgzl fkokgzgs.\n",
            "Rgjnkd gp zdsrbp sgyk anlnicw.\n",
            "Bmjnkdv fq adrqcq sfxl bnkmjhbyqcc.\n",
            "Ejxr hr zbrsdp qfzm lbqsdb.\n",
            "Pnzqqb gr acqrdq reym cckqd.\n",
            "Qcxbzagigsx alsmsq.\n",
            "Pndbgxj bzqbq zqck'r roczgzk ckmtff qm aqcxi sgc oskdq.\n",
            "Xjsgmreg opxashaxjhsw yczsq msqhrv.\n",
            "Cqqmoq rgmrjc mcscq oypq rhjblskw.\n",
            "Rlkdqp cwojfahsjv qhkckadc.\n",
            "Gk rgd dxad nd xkahergsx, pbdtrc qfd scjnszrfmm sm dsdrq.\n",
            "Qfdqc pfntja zd nlb-- ymc nocedpxzkx mkjx nlb --mauglsr vyv rn cm fr.\n",
            "Zkremtff qfzs uxw lzw kms ac lzuhmrq zs dfprs skjdrq vmt'qc Assbf.\n",
            "Kmv hq ycssco rgzl kcudp.\n",
            "Xjsgmreg mcscq hq ldsdl ycssco rgzl *ogfgr* kmv.\n",
            "Hd qfd hkmjdlckrzsgll hr fxpc sm bvokyfl, hs'q x zzc gacz.\n",
            "Hd qfd hkmjdlckrzsgll hr cxqx sm bvokyfl, hs kxw ad y dmnc gacz.\n",
            "Myjcroyzcr zpb mmd flljhld eqdyq gcdy -- ics'r bl knqc ld sgmpc!\n",
            "\n",
            "True\n"
          ]
        }
      ]
    },
    {
      "cell_type": "markdown",
      "metadata": {
        "id": "6VWZ6SVnG4yd"
      },
      "source": [
        "## Question 2: Hash tables and hash functions\n",
        "\n",
        "The code cell below contains a list of Israeli localities and a list of lists of ZIP codes, each containing one or more ZIP codes that belong to the locality placed at the same index in the list of localities (e.g., the list of ZIP codes at `zipcodes[4]` contains ZIP codes that belong to the locality at `localities[4]`).\n",
        "\n",
        "In the first two tasks you will create two hash tables that map each ZIP code to its corresponding locality. For example,\n",
        "```python\n",
        "locality = zipcodes_to_localities['77771']  # Using Python's dictionary\n",
        "print(locality)\n",
        "\n",
        "locality = tget(t, '24990')  # Using our implementation of dictionary\n",
        "print(locality)\n",
        "```\n",
        "should print\n",
        "```\n",
        "Ashdod\n",
        "Beit Jann\n",
        "```\n",
        "The rest of the tasks deal with hash functions.\n",
        "\n",
        "1. Create the hash table using Python's dictionary. Print it using the function `pprint`.\n",
        "2. Create the hash table using our implementation (see [lecture notes](https://colab.research.google.com/drive/1Byc11ZKz-Bd4BxWOh9YnkEJGPnUeAK1C#scrollTo=en9mqoSXxK8q)) of dictionary using the built-in hash function. Print it using the function `pprint`.\n",
        "3. Implement a hash function for ZIP codes, that maps each ZIP code (as a string) to the number: (_m_ + 1) * (_k_ + 1), where _m_ is the maximal digit of the ZIP code, and _k_ is the index of its first occurrence. For example, `'10727'` (_m_ = 7, _k_ = 2) and `'21053'` (_m_ = 5, _k_ = 3) should both be mapped to the number 24.\n",
        "4. May the hash function you implemented in task 3 be used as a reliable checksum function? Explain your answer with an example.\n",
        "5. MD5 is a widely used hash function, primarily used as a checksum. The function `md5(s)` in the code cell below takes a string and returns its MD5 digest represented as a string of 32 [hexadecimal](https://en.wikipedia.org/wiki/Hexadecimal) digits. You are required to write a program that finds and prints the string of 3 lowercase English alphabet characters whose MD5 digest is `0b08bd98d279b88859b628cd8c061ae0`."
      ]
    },
    {
      "cell_type": "code",
      "metadata": {
        "id": "2Op-c-GxG4yd"
      },
      "source": [
        "# For tasks 1 and 2\n",
        "\n",
        "from pprint import pprint\n",
        "\n",
        "localities = \\\n",
        "[\n",
        " 'Qiryat Shemona',\n",
        " 'Beit Jann',\n",
        " 'Harish',\n",
        " 'Tira',\n",
        " 'Bene Beraq',\n",
        " 'Ashdod',\n",
        " 'Sederot',\n",
        " 'Beersheba',\n",
        " 'Kseife',\n",
        " 'Tzofar'\n",
        "]\n",
        "\n",
        "zipcodes = \\\n",
        "[\n",
        " ['11032', '11561'],\n",
        " ['24990'],\n",
        " ['37611'],\n",
        " ['44915'],\n",
        " ['51461', '51529', '51562'],\n",
        " ['77756', '77771'],\n",
        " ['87112'],\n",
        " ['84138', '84277', '84540', '84885'],\n",
        " ['84923'],\n",
        " ['86830']\n",
        "]\n",
        "\n",
        "# For task 5\n",
        "\n",
        "import hashlib\n",
        "\n",
        "def md5(s):\n",
        "  return hashlib.md5(s.encode('utf-8')).hexdigest()"
      ],
      "execution_count": 1,
      "outputs": []
    },
    {
      "cell_type": "code",
      "source": [
        "# Solution 1\n",
        "places_location={'11032':'Qiryat Shemona','11561'\n",
        ":'Qiryat Shemona','24990': 'Beit Jann','37611'\n",
        ":'Harish','44915'\n",
        ":'Tira', '51461'\n",
        ":'Bene Beraq','51529'\n",
        ": 'Bene Beraq','51562'\n",
        ":'Bene Beraq','77756'\n",
        ":'Ashdod','77771'\n",
        ":'Ashdod','87112'\n",
        ":'Sederot', '84138'\n",
        ":'Beersheba','84277'\n",
        ":'Beersheba', '84540'\n",
        ":'Beersheba','84885'\n",
        ":'Beersheba','84923'\n",
        ":'Kseife','86830'\n",
        ":'Tzofar'}\n",
        "pprint(places_location)  \n"
      ],
      "metadata": {
        "id": "Cr8w8pvF1q_W",
        "colab": {
          "base_uri": "https://localhost:8080/"
        },
        "outputId": "9e72e071-6f93-450a-b10a-4d15fbda7225"
      },
      "execution_count": 2,
      "outputs": [
        {
          "output_type": "stream",
          "name": "stdout",
          "text": [
            "{'11032': 'Qiryat Shemona',\n",
            " '11561': 'Qiryat Shemona',\n",
            " '24990': 'Beit Jann',\n",
            " '37611': 'Harish',\n",
            " '44915': 'Tira',\n",
            " '51461': 'Bene Beraq',\n",
            " '51529': 'Bene Beraq',\n",
            " '51562': 'Bene Beraq',\n",
            " '77756': 'Ashdod',\n",
            " '77771': 'Ashdod',\n",
            " '84138': 'Beersheba',\n",
            " '84277': 'Beersheba',\n",
            " '84540': 'Beersheba',\n",
            " '84885': 'Beersheba',\n",
            " '84923': 'Kseife',\n",
            " '86830': 'Tzofar',\n",
            " '87112': 'Sederot'}\n"
          ]
        }
      ]
    },
    {
      "cell_type": "code",
      "source": [
        "# Solution 2\n",
        "\n",
        "# i want to bulid and create a hash table\n",
        "#we learn that section on the lecture\n",
        "def make(n):\n",
        "    return [list() for _ in range(n)]\n",
        "\n",
        "def tset(table, key, value, h=hash):\n",
        "    i = h(key) % len(table)\n",
        "    entry = table[i]\n",
        "    for i, (k, v) in enumerate(entry):\n",
        "        if key==k:\n",
        "            entry[i] = (key, value)\n",
        "            return\n",
        "    entry.append((key, value))\n",
        "        \n",
        "def tget(table, key, h=hash):\n",
        "    i = h(key) % len(table)\n",
        "    entry = table[i]\n",
        "    for i, (k, v) in enumerate(entry):\n",
        "        if key==k:\n",
        "            return v\n",
        "    return None"
      ],
      "metadata": {
        "id": "SNZKcJjWN0gX"
      },
      "execution_count": 3,
      "outputs": []
    },
    {
      "cell_type": "code",
      "source": [
        "#countinue printing of solution 2\n",
        "\n",
        "asn = make(43)\n",
        "i=0\n",
        "#printing our table(locations)\n",
        "while i<len(localities):\n",
        "    for j in range(len(zipcodes[i])):\n",
        "        tset(asn, zipcodes[i][j], localities[i] )\n",
        "    i+=1\n",
        "pprint(asn)\n"
      ],
      "metadata": {
        "id": "4V6pSUsxEXwl",
        "colab": {
          "base_uri": "https://localhost:8080/"
        },
        "outputId": "5e6bf469-3c78-4af5-e5ec-63910aabd138"
      },
      "execution_count": 4,
      "outputs": [
        {
          "output_type": "stream",
          "name": "stdout",
          "text": [
            "[[('24990', 'Beit Jann'), ('77771', 'Ashdod')],\n",
            " [],\n",
            " [('51562', 'Bene Beraq')],\n",
            " [],\n",
            " [],\n",
            " [],\n",
            " [],\n",
            " [],\n",
            " [('86830', 'Tzofar')],\n",
            " [],\n",
            " [],\n",
            " [],\n",
            " [],\n",
            " [('84540', 'Beersheba'), ('84923', 'Kseife')],\n",
            " [('84277', 'Beersheba')],\n",
            " [],\n",
            " [('51461', 'Bene Beraq')],\n",
            " [('84138', 'Beersheba')],\n",
            " [],\n",
            " [],\n",
            " [],\n",
            " [('77756', 'Ashdod')],\n",
            " [('51529', 'Bene Beraq')],\n",
            " [],\n",
            " [],\n",
            " [],\n",
            " [],\n",
            " [('84885', 'Beersheba')],\n",
            " [('37611', 'Harish')],\n",
            " [('11032', 'Qiryat Shemona'), ('11561', 'Qiryat Shemona')],\n",
            " [],\n",
            " [],\n",
            " [],\n",
            " [],\n",
            " [],\n",
            " [('44915', 'Tira')],\n",
            " [('87112', 'Sederot')],\n",
            " [],\n",
            " [],\n",
            " [],\n",
            " [],\n",
            " [],\n",
            " []]\n"
          ]
        }
      ]
    },
    {
      "cell_type": "code",
      "source": [
        "# Solution 3\n",
        "#use zipcodes from the section before solution 1\n",
        "\n",
        "def maximum(t):\n",
        "    numbers = '0123456789'\n",
        "    max = 0\n",
        "    i=0\n",
        "    while i<len(t):\n",
        "        if(numbers.index(t[i]) > max):\n",
        "                max =  numbers.index(t[i])\n",
        "        i+=1\n",
        "    return max\n",
        "\n",
        "def hashtable(zipcodes):\n",
        "    answer = make(43)\n",
        "    i=0\n",
        "    while i<len(zipcodes):\n",
        "        j=0\n",
        "        while j<len(zipcodes[i]):\n",
        "            #initilate the numbers by the index i,j from zipcodes\n",
        "            numbers = zipcodes[i][j]\n",
        "            #sending to the maxiumum function to save the max between\n",
        "            tmp = maximum(zipcodes[i][j])\n",
        "            tmp2 = zipcodes[i][j].index(str(tmp))\n",
        "            #testing our values to\n",
        "            tset(answer, zipcodes[i][j], (tmp  +1)*( tmp2 + 1))#implement  to the number: (m + 1) * (k + 1)\n",
        "            j+=1\n",
        "        i+=1\n",
        "    return answer"
      ],
      "metadata": {
        "id": "RgH9aC92Regv"
      },
      "execution_count": 5,
      "outputs": []
    },
    {
      "cell_type": "code",
      "source": [
        "table_ans=hashtable(zipcodes)\n",
        "pprint(table_ans)\n"
      ],
      "metadata": {
        "id": "xV3vrG1pEYIo",
        "colab": {
          "base_uri": "https://localhost:8080/"
        },
        "outputId": "705c90f0-11b8-4b65-a1b8-0a8c874f69d3"
      },
      "execution_count": 6,
      "outputs": [
        {
          "output_type": "stream",
          "name": "stdout",
          "text": [
            "[[('24990', 30), ('77771', 8)],\n",
            " [],\n",
            " [('51562', 28)],\n",
            " [],\n",
            " [],\n",
            " [],\n",
            " [],\n",
            " [],\n",
            " [('86830', 9)],\n",
            " [],\n",
            " [],\n",
            " [],\n",
            " [],\n",
            " [('84540', 9), ('84923', 30)],\n",
            " [('84277', 9)],\n",
            " [],\n",
            " [('51461', 28)],\n",
            " [('84138', 9)],\n",
            " [],\n",
            " [],\n",
            " [],\n",
            " [('77756', 8)],\n",
            " [('51529', 50)],\n",
            " [],\n",
            " [],\n",
            " [],\n",
            " [],\n",
            " [('84885', 9)],\n",
            " [('37611', 16)],\n",
            " [('11032', 16), ('11561', 28)],\n",
            " [],\n",
            " [],\n",
            " [],\n",
            " [],\n",
            " [],\n",
            " [('44915', 30)],\n",
            " [('87112', 9)],\n",
            " [],\n",
            " [],\n",
            " [],\n",
            " [],\n",
            " [],\n",
            " []]\n"
          ]
        }
      ]
    },
    {
      "cell_type": "code",
      "source": [
        "\n",
        "# Solution 4\n",
        "\n",
        "# we can calculate from the 2.3 function the expression (m + 1)*(k + 1) before transmitting \n",
        "#after that we  check the hash of input\n",
        "\n",
        "#explainnig my answer with example ---------->\n",
        "\n",
        "\n",
        "MySegmentzipCode = \\\n",
        "[\n",
        " ['24990', '84923'],\n",
        "\n",
        "]\n",
        "pprint(hashtable(MySegmentzipCode))"
      ],
      "metadata": {
        "id": "8LPoAlTdEYf7",
        "colab": {
          "base_uri": "https://localhost:8080/"
        },
        "outputId": "a57ae505-8aaa-4304-c73d-68417f97dc44"
      },
      "execution_count": 7,
      "outputs": [
        {
          "output_type": "stream",
          "name": "stdout",
          "text": [
            "[[('24990', 30)],\n",
            " [],\n",
            " [],\n",
            " [],\n",
            " [],\n",
            " [],\n",
            " [],\n",
            " [],\n",
            " [],\n",
            " [],\n",
            " [],\n",
            " [],\n",
            " [],\n",
            " [('84923', 30)],\n",
            " [],\n",
            " [],\n",
            " [],\n",
            " [],\n",
            " [],\n",
            " [],\n",
            " [],\n",
            " [],\n",
            " [],\n",
            " [],\n",
            " [],\n",
            " [],\n",
            " [],\n",
            " [],\n",
            " [],\n",
            " [],\n",
            " [],\n",
            " [],\n",
            " [],\n",
            " [],\n",
            " [],\n",
            " [],\n",
            " [],\n",
            " [],\n",
            " [],\n",
            " [],\n",
            " [],\n",
            " [],\n",
            " []]\n"
          ]
        }
      ]
    },
    {
      "cell_type": "code",
      "source": [
        "# Solution 5\n",
        "#takes a string and returns its MD5 digest represented as a string of 32 hexadecimal digits\n",
        "#i need to write a program that finds and prints the string of 3 lowercase English alphabet characters\n",
        "from itertools import combinations_with_replacement\n",
        "def ThreeLowercaseLettersGenerate():\n",
        "    Md5Values = '0b08bd98d279b88859b628cd8c061ae0'\n",
        "    Letters = ['q','w', 'b', 'c', 'd','j', 'k', 'l', 'm', 'x', 'o', 'p', 'e', 'f', 'g', 'h', 'i',  'r', 's', 't', 'u', 'v', 'a', 'n', 'y', 'z']\n",
        "    \n",
        "    for (a,b,c) in combinations_with_replacement(Letters, 3):\n",
        "            #checking by using md5 function\n",
        "            if(md5(a+b+c) == Md5Values ): \n",
        "               return (a+b+c)\n",
        "\n",
        "\n",
        "           \n",
        "\n",
        "\n",
        "\n",
        "\n"
      ],
      "metadata": {
        "id": "4dGCixtmWBfO"
      },
      "execution_count": null,
      "outputs": []
    },
    {
      "cell_type": "code",
      "source": [
        "\n",
        "print('Md5Values --------> 0b08bd98d279b88859b628cd8c061ae0')\n",
        "print('md5 after -------->' + '  ' + md5(ThreeLowercaseLettersGenerate()))\n",
        "print(ThreeLowercaseLettersGenerate())\n"
      ],
      "metadata": {
        "id": "lJnONvGNEY1P",
        "colab": {
          "base_uri": "https://localhost:8080/"
        },
        "outputId": "4dfe6247-6861-43bc-fee9-80473c942a0c"
      },
      "execution_count": null,
      "outputs": [
        {
          "output_type": "stream",
          "name": "stdout",
          "text": [
            "Md5Values --------> 0b08bd98d279b88859b628cd8c061ae0\n",
            "md5 after -------->  0b08bd98d279b88859b628cd8c061ae0\n",
            "win\n"
          ]
        }
      ]
    }
  ]
}