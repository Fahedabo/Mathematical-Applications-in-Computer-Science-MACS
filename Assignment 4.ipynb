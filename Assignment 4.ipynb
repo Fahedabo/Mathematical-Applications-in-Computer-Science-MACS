{
  "nbformat": 4,
  "nbformat_minor": 0,
  "metadata": {
    "kernelspec": {
      "name": "python3",
      "display_name": "Python 3"
    },
    "colab": {
      "name": "hw4--(4).ipynb",
      "provenance": [],
      "collapsed_sections": []
    }
  },
  "cells": [
    {
      "cell_type": "markdown",
      "metadata": {
        "id": "nuCFdN40kD3N"
      },
      "source": [
        "\n",
        "\n",
        "```\n",
        "# This is formatted as code\n",
        "```\n",
        "\n",
        "# Assignment 4: Differentiation and optimization"
      ]
    },
    {
      "cell_type": "code",
      "metadata": {
        "id": "EbQdRNfPkD3N"
      },
      "source": [
        "import sympy as sym # symbolic differentiation\n",
        "import jax          # algorithmic differentiation\n",
        "import jax.numpy as np\n",
        "import matplotlib.pyplot as plt"
      ],
      "execution_count": 1,
      "outputs": []
    },
    {
      "cell_type": "markdown",
      "metadata": {
        "id": "0NFDA3uFHcf_"
      },
      "source": [
        "## Question 1: Differentiations\n",
        "\n",
        "Function \n",
        "\n",
        "$$f(a, b) = \\frac a b cos(a)^2 \\exp \\left( - \\frac {a^2} {b^2}\\right)$$\n",
        "\n",
        "is given."
      ]
    },
    {
      "cell_type": "markdown",
      "metadata": {
        "id": "CvlvWUY1WdMZ"
      },
      "source": [
        "1. Derive the partial derivatives of $f(a, b)$ by $a$ and $b$. (Write them in this text)\n",
        "\n",
        "    $$\\frac {\\partial f} {\\partial a} = $$\n",
        "    $$\\frac {\\partial f} {\\partial b} = $$"
      ]
    },
    {
      "cell_type": "markdown",
      "metadata": {
        "id": "teHG_JS4ZE9s"
      },
      "source": [
        "2. Implement the derivatives as Python functions:\n",
        "  1. According to symbolic expressions. (print the expressions)\n",
        "  2. Using algorithmic differentiation (with `jax`).\n",
        "      * For a two variable function, $ f(a,b) $, its gradients by $x$ and $y$ can be obtained like this: df_dxy = jax.grad(f, argnums=(0, 1)). The x, and y derivatives are then: df_dxy[0] = df_dx, and df_dxy[1] = df_dy.\n",
        "\n",
        "$-$\n",
        "\n",
        "  \n",
        "Compare the accuracy of symbolic and algorithmic differentiation:\n",
        "\n",
        "\n",
        "1.   Choose a number of points in the range: $a\\in(-20, 20)$, and $b\\in(1, 100)$.\n",
        "2.   Calculate the squared error between simbolic and algorithmic differentiation for each set of points $(a,b)$.\n",
        "3. Average all the errors. (print the average error obtained)\n",
        "\n"
      ]
    },
    {
      "cell_type": "code",
      "source": [
        "a = sym.Symbol('a')\n",
        "b = sym.Symbol('b')\n",
        "def function1(a,b):## a=first.  b=second\n",
        "  temp=(a/b)*sym.cos(a)**2\n",
        "  ans=temp*(sym.exp(-(a**2)/(b**2)))\n",
        "  return ans\n",
        "  #Derive partial of derivatives by a and b "
      ],
      "metadata": {
        "id": "6Efa-dDU__36"
      },
      "execution_count": 417,
      "outputs": []
    },
    {
      "cell_type": "code",
      "source": [
        "##symbolic and algorithmic differentiation for some points  (𝑎,𝑏)\n",
        "def SymbolicAL(a,b):\n",
        "  tmp=sym.exp(-a**2/b**2)\n",
        "  x=-2*a**2*tmp\n",
        "  y=sym.cos(a)/(b**3)\n",
        "  z=2*a*tmp*sym.sin(a)\n",
        "  w=tmp*cos(a)**2\n",
        "  result=x*y-z/b + w/b\n",
        "  return result\n",
        "\n",
        "\n",
        "\n",
        "  def function2(a,b):\n",
        "  npcos=np.cos(a)**2\n",
        "  npex=np.exp(-a**2/b**2)\n",
        "  ans=(a/b)*(npcos*npex)\n",
        "  return ans"
      ],
      "metadata": {
        "id": "FAqt95i6__i0"
      },
      "execution_count": 310,
      "outputs": []
    },
    {
      "cell_type": "code",
      "metadata": {
        "id": "vJV-ytPHZJRR"
      },
      "source": [
        "\n",
        "def derviatives_algo():\n",
        "  ##algorithmic differentiation using jax method\n",
        "  return jax.grad(function2,argnums=(0, 1))\n",
        "\n",
        "\n",
        "\n"
      ],
      "execution_count": 311,
      "outputs": []
    },
    {
      "cell_type": "code",
      "source": [
        "sym.diff(function1(a,b),b)###df/dx of b\n"
      ],
      "metadata": {
        "colab": {
          "base_uri": "https://localhost:8080/",
          "height": 61
        },
        "id": "BK6l-OA3FddE",
        "outputId": "fb0c1496-2446-47c5-aca3-8a7359ea268b"
      },
      "execution_count": 74,
      "outputs": [
        {
          "output_type": "execute_result",
          "data": {
            "text/plain": [
              "2*a**3*exp(-a**2/b**2)*cos(a)**2/b**4 - a*exp(-a**2/b**2)*cos(a)**2/b**2"
            ],
            "text/latex": "$\\displaystyle \\frac{2 a^{3} e^{- \\frac{a^{2}}{b^{2}}} \\cos^{2}{\\left(a \\right)}}{b^{4}} - \\frac{a e^{- \\frac{a^{2}}{b^{2}}} \\cos^{2}{\\left(a \\right)}}{b^{2}}$"
          },
          "metadata": {},
          "execution_count": 74
        }
      ]
    },
    {
      "cell_type": "code",
      "source": [
        "sym.diff(function1(a,b),a)###df/dx of a"
      ],
      "metadata": {
        "colab": {
          "base_uri": "https://localhost:8080/",
          "height": 61
        },
        "id": "_iuLFci29JXE",
        "outputId": "aee49d76-8ca5-48ce-f9b8-bb6b9e3ee710"
      },
      "execution_count": 75,
      "outputs": [
        {
          "output_type": "execute_result",
          "data": {
            "text/plain": [
              "-2*a**2*exp(-a**2/b**2)*cos(a)**2/b**3 - 2*a*exp(-a**2/b**2)*sin(a)*cos(a)/b + exp(-a**2/b**2)*cos(a)**2/b"
            ],
            "text/latex": "$\\displaystyle - \\frac{2 a^{2} e^{- \\frac{a^{2}}{b^{2}}} \\cos^{2}{\\left(a \\right)}}{b^{3}} - \\frac{2 a e^{- \\frac{a^{2}}{b^{2}}} \\sin{\\left(a \\right)} \\cos{\\left(a \\right)}}{b} + \\frac{e^{- \\frac{a^{2}}{b^{2}}} \\cos^{2}{\\left(a \\right)}}{b}$"
          },
          "metadata": {},
          "execution_count": 75
        }
      ]
    },
    {
      "cell_type": "markdown",
      "metadata": {
        "id": "K95Vz9uTWzv5"
      },
      "source": [
        "3. Plot \n",
        "  * $f(a, 10)$, $\\frac {\\partial f(a, 10)} {\\partial a}$ for range $a \\in [-20, 20]$, \n",
        "  * $f(10, b)$, $\\frac {\\partial f(10, b)} {\\partial b}$ for range $b \\in 1, 100$."
      ]
    },
    {
      "cell_type": "code",
      "source": [
        "def foo1(a):##helper function to print f(a,10) \n",
        "  x=np.exp((-1)*(a**2/ 100))\n",
        "  ans=(a/10)*np.cos(a)*np.cos(a)\n",
        "  return ans*x"
      ],
      "metadata": {
        "id": "kzb7v_qNYUu0"
      },
      "execution_count": 133,
      "outputs": []
    },
    {
      "cell_type": "code",
      "source": [
        "def foo2(b):##helper function to print f(10,b)\n",
        "  x=np.exp((-1)*(100/ b**2))\n",
        "  ans=(10/b)*np.cos(10)*np.cos(10)\n",
        "  return ans*x"
      ],
      "metadata": {
        "id": "R-oMU6A5YUlS"
      },
      "execution_count": 134,
      "outputs": []
    },
    {
      "cell_type": "code",
      "source": [
        "#plot f(a,10) function\n",
        "\n",
        "x = np.linspace(-20, 20, 1000)\n",
        "plt.plot(x, [foo1(x) for x in x], label=\"function(a,10)\")\n",
        "plt.plot(x, [jax.grad(foo1)(x) for x in x], label=\"df/da\")\n",
        "plt.axhline(0, lw=0.5, ls='dashed', color='black')\n",
        "plt.legend()"
      ],
      "metadata": {
        "colab": {
          "base_uri": "https://localhost:8080/",
          "height": 282
        },
        "id": "0Be25mnBYUaw",
        "outputId": "2a513e37-7406-440b-c44c-1a82aa40670a"
      },
      "execution_count": 135,
      "outputs": [
        {
          "output_type": "execute_result",
          "data": {
            "text/plain": [
              "<matplotlib.legend.Legend at 0x7fcb5025ee90>"
            ]
          },
          "metadata": {},
          "execution_count": 135
        },
        {
          "output_type": "display_data",
          "data": {
            "text/plain": [
              "<Figure size 432x288 with 1 Axes>"
            ],
            "image/png": "[encoded data removed]"
          },
          "metadata": {
            "needs_background": "light"
          }
        }
      ]
    },
    {
      "cell_type": "code",
      "metadata": {
        "id": "nKErhdqUYhw6",
        "colab": {
          "base_uri": "https://localhost:8080/",
          "height": 282
        },
        "outputId": "45c8035c-3438-4a37-b44a-94e9120c9ca8"
      },
      "source": [
        "#plot f(10,b) function\n",
        "y = np.linspace(1,100,1000)\n",
        "plt.plot(y, [foo2(y) for y in y], label=\"function(10,b)\")\n",
        "plt.plot(y, [jax.grad(foo2)(y) for y in y], label=\"df/db\")\n",
        "plt.axhline(0, lw=0.5, ls='dashed', color='black')\n",
        "plt.legend()"
      ],
      "execution_count": 136,
      "outputs": [
        {
          "output_type": "execute_result",
          "data": {
            "text/plain": [
              "<matplotlib.legend.Legend at 0x7fcb5030c290>"
            ]
          },
          "metadata": {},
          "execution_count": 136
        },
        {
          "output_type": "display_data",
          "data": {
            "text/plain": [
              "<Figure size 432x288 with 1 Axes>"
            ],
            "image/png": "[encoded data removed]"
          },
          "metadata": {
            "needs_background": "light"
          }
        }
      ]
    },
    {
      "cell_type": "markdown",
      "metadata": {
        "id": "ZT8qvZtLZVpr"
      },
      "source": [
        "4. Implement a function for approximate numerical differentiation, given the difference size $h$."
      ]
    },
    {
      "cell_type": "code",
      "metadata": {
        "id": "Xiylvd_FZnjB"
      },
      "source": [
        "##implementation our approximate function\n",
        "#i use the values of a,b abd there are no need to x that was\n",
        "def appro_diff(f,a,b,h):\n",
        "   \"\"\"Differentiates f at x numerically, using h as the difference.\n",
        "  \"\"\"\n",
        "   return (((f(a+h,b)-f(a,b))/h),((f(a,b+h)-f(a,b))/h))\n",
        " "
      ],
      "execution_count": 257,
      "outputs": []
    },
    {
      "cell_type": "markdown",
      "metadata": {
        "id": "NvamVGzCZzeT"
      },
      "source": [
        "5. Find the best difference size $h$ for differentiating\n",
        "   * $f(3, 10)$ by $a$.\n",
        "   * $f(1, 1)$ by $b$.\n",
        "\n",
        "(Print the best step size, the derivative obtained and the difference between the numerical and the exact (algorithmic or symbolic) derivatives)\n",
        "\n",
        "The best difference size minimizes the error of numerical differentiation relative to the exact differentiation.\n",
        "\n",
        "Note: In this excercise it is recommended to use gradient descent, however a simple search is also accepted.\n"
      ]
    },
    {
      "cell_type": "code",
      "source": [
        "#print the best between the numerical and the exact  derivatives\n",
        "##this function is the best difference size for differentiating by a\n",
        "def optimize_drev_a(a, b):\n",
        "  ##drev_func=derviatives_algo()\n",
        "    h = 0.1\n",
        "    x=(a/b)*sym.cos(a)*sym.cos(a)\n",
        "    temp_a_f = sym.exp((-1)*(a**2/ b**2))*x\n",
        "    y=(a/b)*sym.cos(a+h)*sym.cos(a+h)\n",
        "    temp_a_f_h = sym.exp((-1)*((a+h)**2/ b**2))*y\n",
        "    res = 0.1\n",
        "    #res is the best step size\n",
        "    res_df_a = (temp_a_f_h - temp_a_f) / h\n",
        "    min = abs(res_df_a - derviatives_algo()(a,b)[0])    \n",
        "    while(abs(temp_a_f_h - temp_a_f)!=0):\n",
        "      t=(a/b)*sym.cos(a+h)*sym.cos(a+h)\n",
        "      temp_a_f_h = sym.exp((-1)*((a+h)**2/ b**2))*t\n",
        "      res_df_a = (temp_a_f_h - temp_a_f) / h\n",
        "      value = abs(res_df_a - derviatives_algo()(a,b)[0])\n",
        "      #value is the best difference size minimizes\n",
        "      if min > value:\n",
        "        min = value\n",
        "        res = h\n",
        "      h *= h\n",
        "     \n",
        "    return res"
      ],
      "metadata": {
        "id": "c4lg0h_wnsFp"
      },
      "execution_count": 312,
      "outputs": []
    },
    {
      "cell_type": "code",
      "source": [
        "#print the best between the numerical and the exact  derivatives\n",
        "##this function is the best difference size for differentiating by b\n",
        " \n",
        "def optimize_drev_b(a, b):\n",
        "  ##drev_func=derviatives_algo()\n",
        "    h = 0.1\n",
        "    x=(a/b)*sym.cos(a)*sym.cos(a)\n",
        "    tmp_b_f = sym.exp((-1)*(a**2/ b**2))*x\n",
        "    tmp_b_f_h = (a/(b+h))*sym.cos(a)*sym.cos(a)*sym.exp((-1)*(a**2/ (b+h)**2))\n",
        "    res_df_b = (tmp_b_f_h - tmp_b_f) / h\n",
        "    min = abs(res_df_b - derviatives_algo()(a,b)[1])\n",
        "    res = 0.1\n",
        "   #res is the best step size\n",
        "\n",
        "    while(abs(tmp_b_f_h - tmp_b_f) != 0):\n",
        "      t=(a/(b+h))*sym.cos(a)*sym.cos(a)\n",
        "      tmp_b_f_h = sym.exp((-1)*(a**2/ (b+h)**2))*t\n",
        "      res_df_b = (tmp_b_f_h - tmp_b_f) / h\n",
        "      value = abs(res_df_b - derviatives_algo()(a,b)[1])\n",
        "      #value is the best difference size minimizes\n",
        "      if min > value:\n",
        "        min = value\n",
        "        res = h\n",
        "      h *= h\n",
        "      \n",
        "    return res  \n"
      ],
      "metadata": {
        "id": "m7X8Np2inCpp"
      },
      "execution_count": 314,
      "outputs": []
    },
    {
      "cell_type": "code",
      "source": [
        "print(\"The best difference size in (3,10) by a\")\n",
        "print(optimize_drev_a(3.0,10.0))\n"
      ],
      "metadata": {
        "colab": {
          "base_uri": "https://localhost:8080/"
        },
        "id": "gbakqnoKehQ2",
        "outputId": "4294cf17-8757-478e-fe03-cdf655878391"
      },
      "execution_count": 316,
      "outputs": [
        {
          "output_type": "stream",
          "name": "stdout",
          "text": [
            "The best difference size in (3,10) by a\n",
            "1.0000000000000008e-08\n"
          ]
        }
      ]
    },
    {
      "cell_type": "code",
      "source": [
        "print(\"The best difference size in (1,1) by b\")\n",
        "print(optimize_drev_b(1.0,1.0))"
      ],
      "metadata": {
        "colab": {
          "base_uri": "https://localhost:8080/"
        },
        "id": "gYC52oxQiecG",
        "outputId": "035244c2-0f72-47d1-ab27-78b74baec8b7"
      },
      "execution_count": 315,
      "outputs": [
        {
          "output_type": "stream",
          "name": "stdout",
          "text": [
            "The best difference size in (1,1) by b\n",
            "1.0000000000000008e-08\n"
          ]
        }
      ]
    },
    {
      "cell_type": "markdown",
      "metadata": {
        "id": "mKLhu3Z9a3D5"
      },
      "source": [
        "## Question 2: Optimization\n",
        "\n",
        "### Logistic regression\n",
        "\n",
        "Logistic regression is a statiscal model that models the probability of an event happening. In binary logistic regression there is a single binary dependent variable coded by '0' or '1'.\n",
        "\n",
        "We can express the data as a tuple $(x,y)=(data,outcome)=(x,0/1)$\n",
        "\n",
        "To model the probability of event $x$, we can use the logistic function $p(x)=\\frac{1}{1+e^{-(x-\\mu)/s}}$.\n",
        "\n",
        "To find the appropiate $\\mu$, that maximizes the classifaction accuracy we minimize the loss function $-\\sum_{i=1}^N (y_i \\log p(x_i) + (1 - y_i) \\log (1 - p(x_i)))$.\n",
        "\n",
        "In some cases, we give more importance to correctly classify one event over an other (like contracting an illness over not contracting it), and one way to express this is to add a \"fixing parameter\" in the loss function. One way this can be achieved is by adding weights: $-\\sum_{i=1}^N (W_1y_i \\log p(x_i) + W_2(1 - y_i) \\log (1 - p(x_i)))$.\n"
      ]
    },
    {
      "cell_type": "markdown",
      "source": [
        "For a trial group of 20 rats, ratio of time exposed to a virus and the event of contracting that virus are given as a list of pairs (ratio, illness) (1 corresponds to having the illness):"
      ],
      "metadata": {
        "id": "eExKcFRWmh-T"
      }
    },
    {
      "cell_type": "code",
      "metadata": {
        "id": "5VHUHiJSbDZg"
      },
      "source": [
        "rats = [(0.47, 0), (0.23, 0), (0.86, 1), (0.22, 0), (0.21, 1),\n",
        "        (0.31, 0), (0.62, 0), (0.941, 1), (0.27, 0), (0.35, 1),\n",
        "        (0.18, 0), (0.13, 0), (0.31, 1), (0.99, 1), (0.85, 1), \n",
        "        (0.35, 1), (0.6, 1), (0.89, 0), (0.6, 1), (0.92, 0)]"
      ],
      "execution_count": 259,
      "outputs": []
    },
    {
      "cell_type": "markdown",
      "metadata": {
        "id": "hNnmQ8d2fAOl"
      },
      "source": [
        "We want to predict rat illness based on the ratio of exposure to a virus. The prediction function is\n",
        "\n",
        "$$illness = ratio \\ge threshold.$$\n",
        "\n",
        "The loss for this _classification_ problem is:\n",
        "\n",
        "\\begin{aligned}\n",
        "& L = -\\sum_{i=1}^N (W_1illness_i \\log p_i + W_2(1 - illness_i) \\log (1 - p_i)) \\\\\n",
        "\\mbox{where} & \\\\\n",
        "& p_i = \\frac 1 {1 + \\exp(threshold - ratio_i)}\n",
        "\\\\~\\\\\n",
        "\\mbox{and } &W_{1}, W_{2} \\mbox{ are weights}\n",
        "\\end{aligned}"
      ]
    },
    {
      "cell_type": "markdown",
      "metadata": {
        "id": "Ky3bsw8EgZsJ"
      },
      "source": [
        "1. Implement the loss as a function of the threshold, and weights."
      ]
    },
    {
      "cell_type": "code",
      "source": [
        "def loss(thr, w1 = 1, w2 = 1):\n",
        "    l = 0\n",
        "    for pair in rats:\n",
        "        pi = 1/(1 + np.exp(thr-pair[0]))\n",
        "        l += w1*pair[1]*np.log(pi) + w2*(1-pair[1])*np.log(1-pi)\n",
        "\n",
        "        return -l"
      ],
      "metadata": {
        "id": "IOlfCm4qlIh6"
      },
      "execution_count": 419,
      "outputs": []
    },
    {
      "cell_type": "code",
      "metadata": {
        "id": "LZjJjUUWghq-"
      },
      "source": [
        "##implement the loss of threshold, and weights.\n",
        "def loss_func(thr,w1,w2):##from the forom\n",
        "  ans = 0\n",
        "  for pair in rats:\n",
        "    pi = 1/(1 + np.exp(thr - pair[0]))\n",
        "    ans += w1 * pair[1] * np.log(pi) + w2 * (1-pair[1]) * np.log(1-pi)\n",
        "  return -ans"
      ],
      "execution_count": 262,
      "outputs": []
    },
    {
      "cell_type": "markdown",
      "metadata": {
        "id": "j22eKFdKgkti"
      },
      "source": [
        "2. Plot the loss and the derivative of the loss by the threshold in the range $threshold \\in (0.01, 0.99)$, and $ W_1, W_2 = 1$."
      ]
    },
    {
      "cell_type": "code",
      "source": [
        "##helper to plot using jax\n",
        "def thr_derivative_loss(thr,w1,w2):\n",
        "  return jax.grad(loss_func,0)(thr,w1,w2)\n",
        "  "
      ],
      "metadata": {
        "id": "JGjhtatB1pcQ"
      },
      "execution_count": 277,
      "outputs": []
    },
    {
      "cell_type": "code",
      "metadata": {
        "id": "aFAjQG9Ug052",
        "colab": {
          "base_uri": "https://localhost:8080/",
          "height": 282
        },
        "outputId": "532ca559-17f2-43fa-b99d-5fd31a424172"
      },
      "source": [
        "#Plot the loss and the derivative of the loss by the threshold\n",
        "x = np.linspace(0.01,0.99,200)\n",
        "plt.plot(x, [loss_func(x,1,1) for x in x], label=\"loss\")\n",
        "plt.plot(x,[thr_derivative_loss(x,1,1) for x in x],label=\"deloss\")\n",
        "plt.axhline(0, lw=0.5, ls='dashed', color='black')\n",
        "plt.legend()"
      ],
      "execution_count": 319,
      "outputs": [
        {
          "output_type": "execute_result",
          "data": {
            "text/plain": [
              "<matplotlib.legend.Legend at 0x7fcb502ea310>"
            ]
          },
          "metadata": {},
          "execution_count": 319
        },
        {
          "output_type": "display_data",
          "data": {
            "text/plain": [
              "<Figure size 432x288 with 1 Axes>"
            ],
            "image/png": "[encoded data removed]"
          },
          "metadata": {
            "needs_background": "light"
          }
        }
      ]
    },
    {
      "cell_type": "markdown",
      "metadata": {
        "id": "TIxEbOEdhBKf"
      },
      "source": [
        "3. Find the best threshold using gradient descent, and $ W_1, W_2$ such that the number of true positives (rats which have the illness and were correctly classified) is greater than $80\\%$, but the number of false positives ( rats which dont have the illness and were misclassified) is not $100\\%$. (Note: you can fix $W_2$ to be 1)"
      ]
    },
    {
      "cell_type": "code",
      "metadata": {
        "id": "Q0MMAREahDrT"
      },
      "source": [
        "##Finding the best threshold and w1,w2 (weights) using gradient descent\n",
        "\n",
        "def gd(f, x0, w1,w2,step=0.1, decay=0.01, niter=100):\n",
        "  \"\"\"approximates minimum of f starting from x0\n",
        "  \"\"\"\n",
        "  i=0\n",
        "  temp= x0\n",
        "  while i<niter:\n",
        "    t=jax.grad(f)(temp,w1,w2)\n",
        "    temp -= t*step\n",
        "    step *= decay\n",
        "    i+=1\n",
        "  return temp\n",
        "\n",
        "def check_thr_fun(t):\n",
        "  \n",
        "  h_rats=10\n",
        "  c_false=0\n",
        "  l_rats=10\n",
        "  c_true=0\n",
        "  \n",
        "  for i in rats:\n",
        "    tmp=(i[0]>=t)\n",
        "    if(tmp==True &i[1]==0):\n",
        "      c_false+=1\n",
        "    if(tmp==True &i[1]==1):\n",
        "      c_true+=1\n",
        "    \n",
        "  a=(c_false/l_rats*100<100)\n",
        "  b=(c_true/h_rats*100>80)\n",
        "  if(a&b):\n",
        "    return True\n",
        "\n",
        "\n",
        "\n"
      ],
      "execution_count": 382,
      "outputs": []
    },
    {
      "cell_type": "code",
      "source": [
        "mintemp=gd(loss_func,0.1,1,1)\n",
        "if(check_thr_fun(mintemp)==True):\n",
        "  print(mintemp)"
      ],
      "metadata": {
        "colab": {
          "base_uri": "https://localhost:8080/"
        },
        "id": "UuiRxb-faDjM",
        "outputId": "5d24433c-b8db-4411-a61c-8063b957242d"
      },
      "execution_count": 380,
      "outputs": [
        {
          "output_type": "stream",
          "name": "stdout",
          "text": [
            "0.30129904\n"
          ]
        }
      ]
    },
    {
      "cell_type": "markdown",
      "source": [
        " 4. Find the best threshold using Newton's method, given  𝑊1,𝑊2  from   previous question. (Newton's method was explained in class). How many iterations were needed?\n",
        "\n",
        "\n",
        "\n"
      ],
      "metadata": {
        "id": "eRoAIzg9mgYb"
      }
    },
    {
      "cell_type": "code",
      "source": [
        "\n",
        "##Find the best threshold using Newton's method\n",
        "def newton(f,x0, niter=10):\n",
        "  df = jax.grad(f,0)\n",
        "  ddf = jax.grad(df,0)\n",
        "  tmp = x0\n",
        "  i=0\n",
        "  while i<niter:\n",
        "    tmp -=df(tmp)/ddf(tmp)\n",
        "    i+=1\n",
        "  return tmp\n",
        "##iterations that we need\n",
        "print(newton(loss,0.1*random(),20))\n",
        "\n"
      ],
      "metadata": {
        "colab": {
          "base_uri": "https://localhost:8080/"
        },
        "id": "FbK15cicjLkM",
        "outputId": "7f374b47-61e8-4065-88dd-dc7bdd7169ce"
      },
      "execution_count": 423,
      "outputs": [
        {
          "output_type": "stream",
          "name": "stdout",
          "text": [
            "21.764406\n"
          ]
        }
      ]
    },
    {
      "cell_type": "markdown",
      "metadata": {
        "id": "J17VCw3jlFWm"
      },
      "source": [
        "5. Show actual vs. predicted recoveries as a scatter plot for the best threshold. How many recoveries were misclassified?"
      ]
    },
    {
      "cell_type": "code",
      "metadata": {
        "id": "bGs13-yzlS3B",
        "colab": {
          "base_uri": "https://localhost:8080/",
          "height": 296
        },
        "outputId": "51378e03-a271-4fe3-8883-a0b3b0f5f19a"
      },
      "source": [
        "thr=gd(loss_func,0.1,1,1)##recoveries that were misclassified\n",
        "plt.scatter([rat[0] for rat in rats], [rat[1] for rat in rats] )\n",
        "plt.axvline(x=thr, color=\"green\")\n",
        "plt.xlabel(\"ratios\")\n",
        "plt.ylabel(\"illnesses\")\n"
      ],
      "execution_count": 401,
      "outputs": [
        {
          "output_type": "execute_result",
          "data": {
            "text/plain": [
              "Text(0, 0.5, 'illnesses')"
            ]
          },
          "metadata": {},
          "execution_count": 401
        },
        {
          "output_type": "display_data",
          "data": {
            "text/plain": [
              "<Figure size 432x288 with 1 Axes>"
            ],
            "image/png": "[encoded data removed]"
          },
          "metadata": {
            "needs_background": "light"
          }
        }
      ]
    }
  ]
}